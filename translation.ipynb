{
 "cells": [
  {
   "cell_type": "markdown",
   "metadata": {},
   "source": [
    "Rough Notebook for data preparation for Neural Machine Translation \n",
    "from English to French Using Seq2Seq\n",
    " \n",
    "Data link--> https://github.com/devm2024/nmt_keras/blob/master/fra.txt\n",
    "\n",
    "Using Wget, I've downloaded data into 'data' directory"
   ]
  },
  {
   "cell_type": "code",
   "execution_count": 2,
   "metadata": {},
   "outputs": [],
   "source": [
    "import numpy as np\n",
    "import os\n",
    "import re\n",
    "import string\n",
    "from pprint import pprint\n",
    "import matplotlib.pyplot as plt\n",
    "from nltk import FreqDist\n",
    "plt.style.use('ggplot')"
   ]
  },
  {
   "cell_type": "code",
   "execution_count": 3,
   "metadata": {},
   "outputs": [],
   "source": [
    "DATA_PATH = os.path.abspath('data/fra.txt')"
   ]
  },
  {
   "cell_type": "code",
   "execution_count": 4,
   "metadata": {},
   "outputs": [],
   "source": [
    "# reading data\n",
    "with open(DATA_PATH, 'r') as f:\n",
    "    rawData = f.readlines()"
   ]
  },
  {
   "cell_type": "code",
   "execution_count": 5,
   "metadata": {},
   "outputs": [
    {
     "name": "stdout",
     "output_type": "stream",
     "text": [
      "149861\n",
      "['Go.\\tVa !\\n',\n",
      " 'Run!\\tCours\\u202f!\\n',\n",
      " 'Run!\\tCourez\\u202f!\\n',\n",
      " 'Wow!\\tÇa alors\\u202f!\\n',\n",
      " 'Fire!\\tAu feu !\\n']\n"
     ]
    }
   ],
   "source": [
    "print(len(rawData))\n",
    "pprint(rawData[:5])"
   ]
  },
  {
   "cell_type": "markdown",
   "metadata": {},
   "source": [
    "Hence we have 1,49,861 pairs of eng,french data where in each line eng-french are separated by Tab ('\\t')"
   ]
  },
  {
   "cell_type": "markdown",
   "metadata": {},
   "source": [
    "Initially I will keep the punctuations intact cause in the data punctuations are playing important role and I want the encoder-decoder to learn them"
   ]
  },
  {
   "cell_type": "code",
   "execution_count": 6,
   "metadata": {},
   "outputs": [
    {
     "name": "stdout",
     "output_type": "stream",
     "text": [
      "['go', 'run', 'run', 'wow', 'fire']\n",
      "['va ', 'cours', 'courez', 'ça alors', 'au feu ']\n"
     ]
    }
   ],
   "source": [
    "# all data to lower case\n",
    "data = [s.lower() for s in rawData]\n",
    "\n",
    "#removing punctuations\n",
    "translateTable = str.maketrans('', '', string.punctuation)\n",
    "data = [s.translate(translateTable) for s in data]\n",
    "# striping '\\n' and spliting on '\\t'\n",
    "# saving the data in tuple (eng, french)\n",
    "dataEng = [d.rstrip('\\n').split('\\t')[0] for d in data]\n",
    "pprint(dataEng[:5])\n",
    "# alot of french text has '\\u202f' character in the end, also strippping it\n",
    "# Adding <GO> and <EOS> tokens in french as it will go in decoder\n",
    "dataFr = [re.sub('\\u202f', '', d.rstrip('\\n').split('\\t')[1]) for d in data]\n",
    "pprint(dataFr[:5])"
   ]
  },
  {
   "cell_type": "markdown",
   "metadata": {},
   "source": [
    "Now building two different vocabs for french and english"
   ]
  },
  {
   "cell_type": "code",
   "execution_count": 7,
   "metadata": {},
   "outputs": [],
   "source": [
    "wordIndexEngVocab = {}\n",
    "\n",
    "wordIndexFrVocab = {}\n",
    "\n",
    "# adding <GO> and <EOS> as 0 and 1 index in both vocabs\n",
    "wordIndexEngVocab['<GO>'] = 0\n",
    "wordIndexEngVocab['<EOS>'] = 1\n",
    "startEngIndex = 2\n",
    "\n",
    "wordIndexFrVocab['<GO>'] = 0\n",
    "wordIndexFrVocab['<EOS>'] = 1\n",
    "startFrIndex = 2\n",
    "\n",
    "for sen in dataEng:\n",
    "    for word in sen.split():\n",
    "        if word not in wordIndexEngVocab:\n",
    "            wordIndexEngVocab[word] = startEngIndex\n",
    "            startEngIndex += 1\n",
    "for sen in dataFr:\n",
    "    for word in sen.split():\n",
    "        if word not in wordIndexFrVocab:\n",
    "            wordIndexFrVocab[word] = startFrIndex\n",
    "            startFrIndex += 1"
   ]
  },
  {
   "cell_type": "code",
   "execution_count": 8,
   "metadata": {},
   "outputs": [
    {
     "name": "stdout",
     "output_type": "stream",
     "text": [
      "length of eng vocab:  14033\n",
      "length of fr vocab:  28205\n"
     ]
    }
   ],
   "source": [
    "print('length of eng vocab: ', len(wordIndexEngVocab))\n",
    "print('length of fr vocab: ', len(wordIndexFrVocab))"
   ]
  },
  {
   "cell_type": "code",
   "execution_count": 9,
   "metadata": {
    "scrolled": true
   },
   "outputs": [
    {
     "data": {
      "text/plain": [
       "['despagnol',\n",
       " 'contribuera',\n",
       " 'afghanistan',\n",
       " 'tourmenté',\n",
       " 'flashbacks',\n",
       " 'savérerait',\n",
       " 'myrtilles',\n",
       " 'cerises',\n",
       " 'nectarines',\n",
       " 'kigali',\n",
       " 'antigouvernementales',\n",
       " 'rwandaises',\n",
       " 'bled',\n",
       " 'manège',\n",
       " 'démarche',\n",
       " 'abraham',\n",
       " '16e',\n",
       " 'fuste',\n",
       " 'kentucky',\n",
       " 'acheteur',\n",
       " 'alarmante',\n",
       " 'dalgèbre',\n",
       " 'universitaires',\n",
       " 'répugne',\n",
       " 'citées',\n",
       " 'lunesco',\n",
       " 'ratatiné',\n",
       " 'scanner',\n",
       " 'téléchargerai',\n",
       " 'peste',\n",
       " 'usuel',\n",
       " 'serveuses',\n",
       " 'nemployant',\n",
       " 'amincissait',\n",
       " 'spécialisent',\n",
       " 'missiles',\n",
       " 'dixneufcentsoixantedeux',\n",
       " 'sajustent',\n",
       " 'réfrigéré',\n",
       " 'lacidification',\n",
       " 'menacera',\n",
       " 'corail',\n",
       " 'skinautique',\n",
       " 'manifesta',\n",
       " 'sinscrivent',\n",
       " 'compositions',\n",
       " 'écririons',\n",
       " 'ramenait',\n",
       " 'confirmation',\n",
       " 'lactivation',\n",
       " 'administrateur',\n",
       " 'lanalyse',\n",
       " 'éclaboussures',\n",
       " 'substance',\n",
       " 'résulte',\n",
       " 'combustion',\n",
       " 'incomplète',\n",
       " 'carbonés',\n",
       " 'subsides',\n",
       " 'équation',\n",
       " 'ciaprès',\n",
       " 'quoiquimprobable',\n",
       " 'réclamer',\n",
       " 'imprononçables',\n",
       " 'foutais',\n",
       " 'prenaient',\n",
       " 'hippopotame',\n",
       " 'vieillissez',\n",
       " 'arrêtent',\n",
       " 'complimenter',\n",
       " 'officiels',\n",
       " 'puberté',\n",
       " 'chefs',\n",
       " 'dindiens',\n",
       " 'accrochées',\n",
       " 'renoncement',\n",
       " 'camaraderie',\n",
       " 'proportion',\n",
       " 'perpétrée',\n",
       " 'mâles',\n",
       " 'dassassinat',\n",
       " 'attrapes',\n",
       " 'dimputer',\n",
       " 'réclamations',\n",
       " 'prétendons',\n",
       " 'shabitue',\n",
       " 'usages',\n",
       " 'lattaquant',\n",
       " 'annexe',\n",
       " 'nordouest',\n",
       " 'réveillerai',\n",
       " 'anatomie',\n",
       " 'anthropologie',\n",
       " 'ethnologie',\n",
       " 'africaine',\n",
       " 'dabattage',\n",
       " 'récupérée',\n",
       " 'déperdition',\n",
       " 'radioactive',\n",
       " 'déconnectez',\n",
       " 'modem',\n",
       " 'déconnecte',\n",
       " 'acquise',\n",
       " 'anglophone',\n",
       " 'enrobés',\n",
       " 'exdétenu',\n",
       " 'systématiquement',\n",
       " 'coasser',\n",
       " 'superstitieuses',\n",
       " 'traits',\n",
       " 'déterminera',\n",
       " '21ème',\n",
       " 'éduquons',\n",
       " 'complaisants',\n",
       " 'baillé',\n",
       " 'enfilé',\n",
       " 'apprendslui',\n",
       " 'lentende',\n",
       " 'choisiriezvous',\n",
       " 'aspect',\n",
       " 'rendant',\n",
       " 'démocraties',\n",
       " 'envisagerez',\n",
       " 'envisageras',\n",
       " 'soupçonnaient',\n",
       " 'fusèrent',\n",
       " 'assemblés',\n",
       " 'sessions',\n",
       " 'quont',\n",
       " 'découragés',\n",
       " 'prodigue',\n",
       " 'qualbert',\n",
       " 'véhiculer',\n",
       " 'remarquez',\n",
       " 'particules',\n",
       " 'bombardent',\n",
       " 'contour',\n",
       " 'réunissent',\n",
       " 'pessah',\n",
       " 'moore',\n",
       " 'productivité',\n",
       " 'lefficacité',\n",
       " 'tauras',\n",
       " 'sattroupèrent',\n",
       " 'programmeurs',\n",
       " 'pointsvirgules',\n",
       " 'émoticônes',\n",
       " 'thaï',\n",
       " 'apnée',\n",
       " 'rentretelle',\n",
       " 'refusez',\n",
       " 'dautostoppeurs',\n",
       " 'esthétiques',\n",
       " 'condamne',\n",
       " 'petitdéjeunes',\n",
       " 'petitdéjeunez',\n",
       " 'épisode',\n",
       " 'indubitablement',\n",
       " 'l’alimentation',\n",
       " 'l’agriculture',\n",
       " 'milleneufcentquatrevingtdix',\n",
       " 'sinquiéta',\n",
       " 'yangtsé',\n",
       " 'gourmands',\n",
       " 'individuellement',\n",
       " 'wagon',\n",
       " 'd’erreurs',\n",
       " 'corpus',\n",
       " 'd’encourager',\n",
       " 'quasitélépathique',\n",
       " 'couvrent',\n",
       " 'animales',\n",
       " 'végétales',\n",
       " 'caractérise',\n",
       " 'réfutées',\n",
       " 'dénégations',\n",
       " 'tatoebaorg',\n",
       " 'création',\n",
       " 'dexemple',\n",
       " 'napprendrezvous',\n",
       " 'retombe',\n",
       " 'autorités',\n",
       " 'comportant',\n",
       " 'diminuera',\n",
       " 'dixneuvième',\n",
       " 'secousses',\n",
       " 'magnitude',\n",
       " 'richter',\n",
       " 'avertissent',\n",
       " 'réplique',\n",
       " 'lembauche',\n",
       " 'pénale',\n",
       " 'cirrhose',\n",
       " 'réussissons',\n",
       " 'sélargit',\n",
       " 'dioxyde',\n",
       " 'produisons',\n",
       " 'investit',\n",
       " 'jatterris',\n",
       " 'surgissantes',\n",
       " 'proposée',\n",
       " 'dentreprise',\n",
       " 'collaborative',\n",
       " 'encourageons',\n",
       " 'dexpérimenter']"
      ]
     },
     "execution_count": 9,
     "metadata": {},
     "output_type": "execute_result"
    }
   ],
   "source": [
    "list(wordIndexFrVocab.keys())[28000:]"
   ]
  },
  {
   "cell_type": "code",
   "execution_count": 10,
   "metadata": {},
   "outputs": [],
   "source": [
    "# making inverse vocabs\n",
    "indexWordEngVocab = dict( [(v, k) for k,v in wordIndexEngVocab.items() ] )\n",
    "indexWordFrVocab = dict([ (v, k) for k,v in wordIndexFrVocab.items() ] )"
   ]
  },
  {
   "cell_type": "code",
   "execution_count": null,
   "metadata": {},
   "outputs": [],
   "source": []
  },
  {
   "cell_type": "markdown",
   "metadata": {},
   "source": [
    "Adding \\<GO> and \\<EOS> tokens at the start and end of french sentence as it will go into decoder"
   ]
  },
  {
   "cell_type": "code",
   "execution_count": 11,
   "metadata": {},
   "outputs": [],
   "source": [
    "for i in range(len(dataFr)):\n",
    "    dataFr[i] = ' '.join(['<GO>', dataFr[i], '<EOS>'])"
   ]
  },
  {
   "cell_type": "code",
   "execution_count": 12,
   "metadata": {},
   "outputs": [
    {
     "data": {
      "text/plain": [
       "['<GO> va  <EOS>',\n",
       " '<GO> cours <EOS>',\n",
       " '<GO> courez <EOS>',\n",
       " '<GO> ça alors <EOS>',\n",
       " '<GO> au feu  <EOS>',\n",
       " '<GO> à laide <EOS>',\n",
       " '<GO> saute <EOS>',\n",
       " '<GO> ça suffit <EOS>',\n",
       " '<GO> stop <EOS>',\n",
       " '<GO> arrêtetoi  <EOS>',\n",
       " '<GO> attends  <EOS>',\n",
       " '<GO> attendez  <EOS>',\n",
       " '<GO> poursuis <EOS>',\n",
       " '<GO> continuez <EOS>',\n",
       " '<GO> poursuivez <EOS>']"
      ]
     },
     "execution_count": 12,
     "metadata": {},
     "output_type": "execute_result"
    }
   ],
   "source": [
    "dataFr[:15]"
   ]
  },
  {
   "cell_type": "markdown",
   "metadata": {},
   "source": [
    "Here we are not making the length of input to encoder and input to decoder variable length (i.e, dynamic)\n",
    "Hence, we will make a plot of length of sentence V/s frequency (number of occurrence of that length) so as to choose the optimal length"
   ]
  },
  {
   "cell_type": "code",
   "execution_count": 13,
   "metadata": {},
   "outputs": [],
   "source": [
    "seqLenListEng = [len(d.split()) for d in dataEng]\n",
    "seqLenListFr = [len(d.split()) for d in dataFr]\n",
    "\n",
    "distEng = dict(FreqDist(seqLenListEng))\n",
    "distFr = dict(FreqDist(seqLenListFr))"
   ]
  },
  {
   "cell_type": "code",
   "execution_count": 14,
   "metadata": {},
   "outputs": [
    {
     "data": {
      "text/plain": [
       "Text(0.5,1,'For English Sentences')"
      ]
     },
     "execution_count": 14,
     "metadata": {},
     "output_type": "execute_result"
    },
    {
     "data": {
      "image/png": "[encoded data removed]",
      "text/plain": [
       "<Figure size 432x288 with 1 Axes>"
      ]
     },
     "metadata": {},
     "output_type": "display_data"
    }
   ],
   "source": [
    "plt.close()\n",
    "plt.bar(distEng.keys(), distEng.values())\n",
    "plt.xticks(range(1, max(seqLenListEng), 5) )\n",
    "plt.title('For English Sentences')"
   ]
  },
  {
   "cell_type": "code",
   "execution_count": 15,
   "metadata": {},
   "outputs": [
    {
     "data": {
      "text/plain": [
       "Text(0.5,1,'For English Sentences')"
      ]
     },
     "execution_count": 15,
     "metadata": {},
     "output_type": "execute_result"
    },
    {
     "data": {
      "image/png": "[encoded data removed]",
      "text/plain": [
       "<Figure size 432x288 with 1 Axes>"
      ]
     },
     "metadata": {},
     "output_type": "display_data"
    }
   ],
   "source": [
    "plt.close()\n",
    "plt.bar(distFr.keys(), distFr.values())\n",
    "plt.xticks(range(1, max(seqLenListFr), 5) )\n",
    "plt.title('For English Sentences')"
   ]
  },
  {
   "cell_type": "markdown",
   "metadata": {},
   "source": [
    "Hence we see that most of the sentences are having length around 10, and they are negligible \n",
    "after length 15, \n",
    "Hence we will sample only those data where the length of english sentence is less than 15 and french is less than 25"
   ]
  },
  {
   "cell_type": "code",
   "execution_count": 16,
   "metadata": {},
   "outputs": [],
   "source": [
    "#dataEngNew = filter(lambda x: len(x.split()) >= 15, dataEng)\n",
    "dataEngNew = []\n",
    "dataFrNew = []\n",
    "for i in range(len(dataEng)):\n",
    "    if len(dataEng[i].split()) <= 15 and len(dataFr[i].split()) <= 25:\n",
    "        dataEngNew.append(dataEng[i])\n",
    "        dataFrNew.append(dataFr[i])"
   ]
  },
  {
   "cell_type": "code",
   "execution_count": 17,
   "metadata": {},
   "outputs": [
    {
     "name": "stdout",
     "output_type": "stream",
     "text": [
      "dropped sentences count:  754\n"
     ]
    }
   ],
   "source": [
    "print('dropped sentences count: ', len(dataEng) - len(dataEngNew))"
   ]
  },
  {
   "cell_type": "markdown",
   "metadata": {},
   "source": [
    "# Building Model"
   ]
  },
  {
   "cell_type": "code",
   "execution_count": 18,
   "metadata": {},
   "outputs": [],
   "source": [
    "# hyper-parameters\n",
    "DATA_SIZE = len(dataEngNew)\n",
    "ENCODER_TIME_STEPS = 15\n",
    "DECODER_TIME_STEPS = 25\n",
    "ENCODER_VOCAB_SIZE = len(wordIndexEngVocab)\n",
    "DECODER_VOCAB_SIZE= len(wordIndexFrVocab)\n",
    "EMBED_DIMS = 50\n",
    "BATCH_SIZE = 64\n",
    "ENCODER_HIDDEN_UNITS = 30\n",
    "DECODER_HIDDEN_UNITS = 60\n",
    "SEED = 2"
   ]
  },
  {
   "cell_type": "code",
   "execution_count": 19,
   "metadata": {},
   "outputs": [],
   "source": [
    "# input variables\n",
    "#encoder input -> (dataSize, encoderTimeSteps) \n",
    "# we will give all data and let keras generate batches\n",
    "# here embedDims hasn't been added as 3rd dims because I will use keras to generate corresponding\n",
    "# embedding\n",
    "#decoder input -> (dataSize, decoderTimeSteps, decoderVocabSize) \n",
    "# as this is going to be softmax probabilty dist.\n",
    "# decoder_target -> (dataSize, decoderTimeSteps decoderVocabSize)\n",
    "\n",
    "# initializing variables\n",
    "encoderInputsData = np.zeros((DATA_SIZE, ENCODER_TIME_STEPS), dtype=np.float64)\n",
    "decoderInputsData = np.zeros((DATA_SIZE, DECODER_TIME_STEPS, DECODER_VOCAB_SIZE), dtype=np.float64)\n",
    "decoderTargetsData = np.zeros((DATA_SIZE, DECODER_TIME_STEPS, DECODER_VOCAB_SIZE), dtype=np.float64)"
   ]
  },
  {
   "cell_type": "markdown",
   "metadata": {},
   "source": [
    "# Note\n",
    "Here, we need to understand that these input variables have been created with respect to \n",
    "training the encoder-decoder model. Hence irrespective of what decoder produes with initializing \n",
    "from encoder state, we have to give decoder ideal input as well as ideal target for output.\n",
    "During testing, both decoderInputs and decoderTargets will be absent"
   ]
  },
  {
   "cell_type": "code",
   "execution_count": null,
   "metadata": {},
   "outputs": [],
   "source": [
    "# adding data to input variables\n",
    "for i, (engSen, frSen) in enumerate(zip(dataEngNew, dataFrNew)):\n",
    "    #adding each word of a eng sen as time step into encoder ith input\n",
    "    for t, word in enumerate(engSen.split()):\n",
    "        encoderInputsData[i][t] = wordIndexEngVocab[word]\n",
    "    \n",
    "    # adding each word of corresponding french sen into decoder ith input\n",
    "    for t, word in enumerate(frSen.split()):\n",
    "        decoderInputsData[i][t] = wordIndexFrVocab[word]\n",
    "        \n",
    "        # decoder input word at t'th time step is the decoder target output for\n",
    "        # t-1 th step\n",
    "        if t>0:\n",
    "            decoderTargetsData[i][t-1][wordIndexFrVocab[word]] = 1\n",
    "            # here we will add 1 at the index of word which has to be target, \n",
    "            # as it is a prob dist of Fr vocab "
   ]
  },
  {
   "cell_type": "markdown",
   "metadata": {},
   "source": [
    "# Using Keras"
   ]
  },
  {
   "cell_type": "code",
   "execution_count": 20,
   "metadata": {},
   "outputs": [
    {
     "name": "stderr",
     "output_type": "stream",
     "text": [
      "Using TensorFlow backend.\n"
     ]
    }
   ],
   "source": [
    "from keras.layers import Input, LSTM, Embedding, Dense\n",
    "from keras.models import Model"
   ]
  },
  {
   "cell_type": "markdown",
   "metadata": {},
   "source": [
    "Here Sequential Model hasn't been used, hence style is different"
   ]
  },
  {
   "cell_type": "code",
   "execution_count": 22,
   "metadata": {},
   "outputs": [],
   "source": [
    "# initializing input tensor for encoder\n",
    "encoderRawInp = Input(shape = (BATCH_SIZE,))\n",
    "\n",
    "#creating encoder embeddings\n",
    "encoderEmbed = Embedding(ENCODER_VOCAB_SIZE, EMBED_DIMS)\n",
    "# replacing token with embedding\n",
    "encoderInp = encoderEmbed(encoderRawInp)\n",
    "\n",
    "# creating encoder\n",
    "encoder = LSTM(ENCODER_HIDDEN_UNITS, return_state = True)\n",
    "# return_state True,want encoder to return state also \n",
    "\n",
    "# encoder outputs and states\n",
    "encoderOut, encoderStateH, encoderStateC = encoder(encoderInp)\n",
    "encoderStates = [encoderStateH, encoderStateC]"
   ]
  },
  {
   "cell_type": "code",
   "execution_count": null,
   "metadata": {},
   "outputs": [],
   "source": [
    "#initializing input tensor for decoder\n",
    "decoderRawInp = Input(shape = (BATCH_SIZE,))\n",
    "\n",
    "# creating decoder embeddings\n",
    "decoderEmbed = Embedding(DECODER_VOCAB_SIZE, EMBED_DIMS)\n",
    "decoderInp = decoderEmbed(decoderRawInp)\n",
    "\n",
    "#creating decoder\n",
    "decoder = LSTM(DECODER_HIDDEN_UNITS, return_state= True, return_sequences = True)\n",
    "# here ret_seq is True as we want out of decoder at each time step\n",
    "decoderOut, _, _ = decoder(decoderInp, initial_state = encoderStates)\n",
    "# initialize decoder with encoder state"
   ]
  }
 ],
 "metadata": {
  "kernelspec": {
   "display_name": "Python 3",
   "language": "python",
   "name": "python3"
  },
  "language_info": {
   "codemirror_mode": {
    "name": "ipython",
    "version": 3
   },
   "file_extension": ".py",
   "mimetype": "text/x-python",
   "name": "python",
   "nbconvert_exporter": "python",
   "pygments_lexer": "ipython3",
   "version": "3.6.5"
  }
 },
 "nbformat": 4,
 "nbformat_minor": 2
}
